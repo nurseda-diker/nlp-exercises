{
  "nbformat": 4,
  "nbformat_minor": 0,
  "metadata": {
    "colab": {
      "provenance": []
    },
    "kernelspec": {
      "name": "python3",
      "display_name": "Python 3"
    },
    "language_info": {
      "name": "python"
    }
  },
  "cells": [
    {
      "cell_type": "markdown",
      "source": [
        "**Text Representation Methods (Bag of Words and TF-IDF)**"
      ],
      "metadata": {
        "id": "t8kGe0HGzi-y"
      }
    },
    {
      "cell_type": "markdown",
      "source": [
        "**What is Bag of Words (BoW)?** <br>\n",
        "BOW is one of the most basic text processing techniques that represent texts numerically. This method turns the text into a numerical vector by taking into account the frequency of words in a text."
      ],
      "metadata": {
        "id": "uetfhSp8zqkf"
      }
    },
    {
      "cell_type": "markdown",
      "source": [
        "**How Does It Work?**\n",
        "1. A vocabulary consisting of all documents (texts) is created.\n",
        "2. Each document is represented by the presence or absence and frequency of words in this vocabulary."
      ],
      "metadata": {
        "id": "dEGffqLwz2Au"
      }
    },
    {
      "cell_type": "code",
      "source": [
        "from sklearn.feature_extraction.text import CountVectorizer, TfidfVectorizer"
      ],
      "metadata": {
        "id": "bG0iujnDzk5s"
      },
      "execution_count": null,
      "outputs": []
    },
    {
      "cell_type": "code",
      "source": [
        "texts=[\"Cat black black\",\"Dog black white\"]"
      ],
      "metadata": {
        "id": "X-zmcfC9zk76"
      },
      "execution_count": null,
      "outputs": []
    },
    {
      "cell_type": "code",
      "source": [
        "# BOW Representation\n",
        "vectorizer=CountVectorizer()\n",
        "x_bow=vectorizer.fit_transform(texts)\n",
        "print(\"Bag of Words Representation:\")\n",
        "print(x_bow.toarray())\n",
        "print(\"Vocabulary:\", vectorizer.get_feature_names_out())"
      ],
      "metadata": {
        "colab": {
          "base_uri": "https://localhost:8080/"
        },
        "id": "KHQe4RgSzk-D",
        "outputId": "7b44c71a-2a7b-4365-ebe3-dad750b93dd0"
      },
      "execution_count": null,
      "outputs": [
        {
          "output_type": "stream",
          "name": "stdout",
          "text": [
            "Bag of Words Representation:\n",
            "[[2 1 0 0]\n",
            " [1 0 1 1]]\n",
            "Vocabulary: ['black' 'cat' 'dog' 'white']\n"
          ]
        }
      ]
    },
    {
      "cell_type": "markdown",
      "source": [
        "**What is TF-IDF (Term Frequency - Inverse Document Frequency)?** <br>\n",
        "TF-IDF digitizes words in a way similar to the BoW method, but provides a more meaningful text representation by penalizing words that occur frequently and do not carry much meaning across documents."
      ],
      "metadata": {
        "id": "uVl3j9Q51K1i"
      }
    },
    {
      "cell_type": "markdown",
      "source": [
        "**How Does It Work?**\n",
        "1. TF (Term Frequency): It is the frequency of a word in that text.\n",
        "2. IDF (Inverse Document Frequency): It measures how many documents a word appears in. If it appears in too many documents, the value of the word decreases."
      ],
      "metadata": {
        "id": "BjarQWai1X9Z"
      }
    },
    {
      "cell_type": "code",
      "source": [
        "# TF-IDF Representation\n",
        "tfidf_vectorizer=TfidfVectorizer()\n",
        "x_tfidf=tfidf_vectorizer.fit_transform(texts)\n",
        "print(\"\\nTF-IDF Representation:\")\n",
        "print(x_tfidf.toarray())\n",
        "print(\"Vocabulary:\", tfidf_vectorizer.get_feature_names_out())"
      ],
      "metadata": {
        "colab": {
          "base_uri": "https://localhost:8080/"
        },
        "id": "u5RZogxhzlAQ",
        "outputId": "d1d4f294-f3b5-466d-aa16-a9b1e0c9d568"
      },
      "execution_count": null,
      "outputs": [
        {
          "output_type": "stream",
          "name": "stdout",
          "text": [
            "\n",
            "TF-IDF Representation:\n",
            "[[0.81818021 0.57496187 0.         0.        ]\n",
            " [0.44943642 0.         0.6316672  0.6316672 ]]\n",
            "Vocabulary: ['black' 'cat' 'dog' 'white']\n"
          ]
        }
      ]
    },
    {
      "cell_type": "markdown",
      "source": [
        "Source: <br>\n",
        "* https://www.kaggle.com/code/vipulgandhi/bag-of-words-model-for-beginners"
      ],
      "metadata": {
        "id": "xzxjU2Kza5eo"
      }
    }
  ]
}